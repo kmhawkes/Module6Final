{
 "cells": [
  {
   "cell_type": "markdown",
   "id": "a62c8d09-7407-47c2-8f41-81fffd1f4595",
   "metadata": {},
   "source": [
    "# Data Science Tools and Ecosystem"
   ]
  },
  {
   "cell_type": "markdown",
   "id": "a77e208f-fe20-4f99-8321-d9b2889c5adb",
   "metadata": {},
   "source": [
    "## Author\n",
    "Katie Hawkes"
   ]
  },
  {
   "cell_type": "markdown",
   "id": "bc434c65-26bd-4ba6-a575-32e8d153cc28",
   "metadata": {},
   "source": [
    "In this notebook, Data Science Tools and Ecosystem are summarized."
   ]
  },
  {
   "cell_type": "markdown",
   "id": "379a9756-8b0d-4345-8935-90c8ea7c1c99",
   "metadata": {},
   "source": [
    "Objectives:\n",
    "- List popular data science languages\n",
    "- List common data science libraries\n",
    "- List popular open-source data science tools\n",
    "- Provide examples of arithmetic expressions"
   ]
  },
  {
   "cell_type": "markdown",
   "id": "aa200b8b-190b-485c-83b9-f3f5fa64cc2a",
   "metadata": {},
   "source": [
    "Some of the popular languages that Data Scientists use are:\n",
    "1. Python\n",
    "2. R\n",
    "3. Julia"
   ]
  },
  {
   "cell_type": "markdown",
   "id": "618ce564-8eda-4e3b-915f-93e21d4147a0",
   "metadata": {},
   "source": [
    "Some of the commonly used libraries used by Data Scientists include:\n",
    "1. Pandas\n",
    "2. Numpy\n",
    "3. Pytorch\n",
    "4. Tensorflow\n",
    "5. Matplotlib"
   ]
  },
  {
   "cell_type": "markdown",
   "id": "a065f01b-a28f-4914-a8f0-c7bc5f135d8f",
   "metadata": {},
   "source": [
    "|Data Science Tools|\n",
    "--------------------\n",
    "|PyCharm|\n",
    "|RStudio|\n",
    "|MySQL|\n",
    "|PixieDust|"
   ]
  },
  {
   "cell_type": "markdown",
   "id": "0176a80c-7d78-4799-8bb3-fd356133a351",
   "metadata": {},
   "source": [
    "### Below are a few examples of evaluating arithmetic expressions in Python"
   ]
  },
  {
   "cell_type": "code",
   "execution_count": 14,
   "id": "05b5b0de-120b-488b-9829-bf739fa34646",
   "metadata": {},
   "outputs": [],
   "source": [
    "#This a simple arithmetic expression to mutiply then add integers"
   ]
  },
  {
   "cell_type": "code",
   "execution_count": 11,
   "id": "24093071-c2fb-4fef-afa6-7c50d8510b37",
   "metadata": {},
   "outputs": [
    {
     "data": {
      "text/plain": [
       "17"
      ]
     },
     "execution_count": 11,
     "metadata": {},
     "output_type": "execute_result"
    }
   ],
   "source": [
    "(3*4)+5"
   ]
  },
  {
   "cell_type": "code",
   "execution_count": 16,
   "id": "d8ec51dc-ac3d-4eb1-83c7-2bde5d7b301b",
   "metadata": {},
   "outputs": [
    {
     "data": {
      "text/plain": [
       "3.3333333333333335"
      ]
     },
     "execution_count": 16,
     "metadata": {},
     "output_type": "execute_result"
    }
   ],
   "source": [
    "#This will convert 200 minutes to hours by dividing by 60\n",
    "200/60"
   ]
  },
  {
   "cell_type": "code",
   "execution_count": null,
   "id": "ef8f69bf-6c29-4113-9902-b2adfaa96dd7",
   "metadata": {},
   "outputs": [],
   "source": []
  }
 ],
 "metadata": {
  "kernelspec": {
   "display_name": "Python 3 (ipykernel)",
   "language": "python",
   "name": "python3"
  },
  "language_info": {
   "codemirror_mode": {
    "name": "ipython",
    "version": 3
   },
   "file_extension": ".py",
   "mimetype": "text/x-python",
   "name": "python",
   "nbconvert_exporter": "python",
   "pygments_lexer": "ipython3",
   "version": "3.11.7"
  }
 },
 "nbformat": 4,
 "nbformat_minor": 5
}
